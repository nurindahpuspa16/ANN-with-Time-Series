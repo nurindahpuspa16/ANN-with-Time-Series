{
  "nbformat": 4,
  "nbformat_minor": 0,
  "metadata": {
    "colab": {
      "name": "Submission Time Series",
      "provenance": [],
      "authorship_tag": "ABX9TyNuqOGLL14M8+JAUCUllm48",
      "include_colab_link": true
    },
    "kernelspec": {
      "name": "python3",
      "display_name": "Python 3"
    }
  },
  "cells": [
    {
      "cell_type": "markdown",
      "metadata": {
        "id": "view-in-github",
        "colab_type": "text"
      },
      "source": [
        "<a href=\"https://colab.research.google.com/github/nurindahpuspa16/ANN-with-Time-Series/blob/main/Submission_Time_Series.ipynb\" target=\"_parent\"><img src=\"https://colab.research.google.com/assets/colab-badge.svg\" alt=\"Open In Colab\"/></a>"
      ]
    },
    {
      "cell_type": "code",
      "metadata": {
        "id": "LdHwm9ijmjU8"
      },
      "source": [
        "# Import packages\n",
        "import numpy as np\n",
        "import pandas as pd\n",
        "import matplotlib.pyplot as plt\n",
        "import seaborn as sns\n",
        "%matplotlib inline\n",
        "sns.set()\n",
        "from keras.layers import Dense, LSTM\n",
        "import tensorflow as tf"
      ],
      "execution_count": null,
      "outputs": []
    },
    {
      "cell_type": "code",
      "metadata": {
        "id": "QOZkdbTaR-L3",
        "colab": {
          "base_uri": "https://localhost:8080/",
          "height": 204
        },
        "outputId": "59b8e44d-24d8-4c65-f13f-f027d751819d"
      },
      "source": [
        "df = pd.read_csv('/content/GOOG.csv')\n",
        "df.head()"
      ],
      "execution_count": null,
      "outputs": [
        {
          "output_type": "execute_result",
          "data": {
            "text/html": [
              "<div>\n",
              "<style scoped>\n",
              "    .dataframe tbody tr th:only-of-type {\n",
              "        vertical-align: middle;\n",
              "    }\n",
              "\n",
              "    .dataframe tbody tr th {\n",
              "        vertical-align: top;\n",
              "    }\n",
              "\n",
              "    .dataframe thead th {\n",
              "        text-align: right;\n",
              "    }\n",
              "</style>\n",
              "<table border=\"1\" class=\"dataframe\">\n",
              "  <thead>\n",
              "    <tr style=\"text-align: right;\">\n",
              "      <th></th>\n",
              "      <th>Date</th>\n",
              "      <th>Open</th>\n",
              "      <th>High</th>\n",
              "      <th>Low</th>\n",
              "      <th>Close</th>\n",
              "      <th>Adj Close</th>\n",
              "      <th>Volume</th>\n",
              "    </tr>\n",
              "  </thead>\n",
              "  <tbody>\n",
              "    <tr>\n",
              "      <th>0</th>\n",
              "      <td>2015-06-08</td>\n",
              "      <td>533.309998</td>\n",
              "      <td>534.119995</td>\n",
              "      <td>526.239990</td>\n",
              "      <td>526.830017</td>\n",
              "      <td>526.830017</td>\n",
              "      <td>1520600</td>\n",
              "    </tr>\n",
              "    <tr>\n",
              "      <th>1</th>\n",
              "      <td>2015-06-09</td>\n",
              "      <td>527.559998</td>\n",
              "      <td>529.200012</td>\n",
              "      <td>523.010010</td>\n",
              "      <td>526.690002</td>\n",
              "      <td>526.690002</td>\n",
              "      <td>1455300</td>\n",
              "    </tr>\n",
              "    <tr>\n",
              "      <th>2</th>\n",
              "      <td>2015-06-10</td>\n",
              "      <td>529.359985</td>\n",
              "      <td>538.359985</td>\n",
              "      <td>529.349976</td>\n",
              "      <td>536.690002</td>\n",
              "      <td>536.690002</td>\n",
              "      <td>1815000</td>\n",
              "    </tr>\n",
              "    <tr>\n",
              "      <th>3</th>\n",
              "      <td>2015-06-11</td>\n",
              "      <td>538.424988</td>\n",
              "      <td>538.979980</td>\n",
              "      <td>533.020020</td>\n",
              "      <td>534.609985</td>\n",
              "      <td>534.609985</td>\n",
              "      <td>1217500</td>\n",
              "    </tr>\n",
              "    <tr>\n",
              "      <th>4</th>\n",
              "      <td>2015-06-12</td>\n",
              "      <td>531.599976</td>\n",
              "      <td>533.119995</td>\n",
              "      <td>530.159973</td>\n",
              "      <td>532.330017</td>\n",
              "      <td>532.330017</td>\n",
              "      <td>955800</td>\n",
              "    </tr>\n",
              "  </tbody>\n",
              "</table>\n",
              "</div>"
            ],
            "text/plain": [
              "         Date        Open        High  ...       Close   Adj Close   Volume\n",
              "0  2015-06-08  533.309998  534.119995  ...  526.830017  526.830017  1520600\n",
              "1  2015-06-09  527.559998  529.200012  ...  526.690002  526.690002  1455300\n",
              "2  2015-06-10  529.359985  538.359985  ...  536.690002  536.690002  1815000\n",
              "3  2015-06-11  538.424988  538.979980  ...  534.609985  534.609985  1217500\n",
              "4  2015-06-12  531.599976  533.119995  ...  532.330017  532.330017   955800\n",
              "\n",
              "[5 rows x 7 columns]"
            ]
          },
          "metadata": {
            "tags": []
          },
          "execution_count": 81
        }
      ]
    },
    {
      "cell_type": "code",
      "metadata": {
        "id": "BAN-qEx4XzXI",
        "colab": {
          "base_uri": "https://localhost:8080/",
          "height": 255
        },
        "outputId": "c7fc332d-13ff-4e52-edcd-5e63a1aa1fdd"
      },
      "source": [
        "df.info()"
      ],
      "execution_count": null,
      "outputs": [
        {
          "output_type": "stream",
          "text": [
            "<class 'pandas.core.frame.DataFrame'>\n",
            "RangeIndex: 1262 entries, 0 to 1261\n",
            "Data columns (total 7 columns):\n",
            " #   Column     Non-Null Count  Dtype  \n",
            "---  ------     --------------  -----  \n",
            " 0   Date       1262 non-null   object \n",
            " 1   Open       1262 non-null   float64\n",
            " 2   High       1262 non-null   float64\n",
            " 3   Low        1262 non-null   float64\n",
            " 4   Close      1262 non-null   float64\n",
            " 5   Adj Close  1262 non-null   float64\n",
            " 6   Volume     1262 non-null   int64  \n",
            "dtypes: float64(5), int64(1), object(1)\n",
            "memory usage: 69.1+ KB\n"
          ],
          "name": "stdout"
        }
      ]
    },
    {
      "cell_type": "code",
      "metadata": {
        "id": "Z7jPBkRTSap6",
        "colab": {
          "base_uri": "https://localhost:8080/",
          "height": 153
        },
        "outputId": "1e0be5df-8748-4b56-d4fc-e147e4ece891"
      },
      "source": [
        "df.isnull().sum()"
      ],
      "execution_count": null,
      "outputs": [
        {
          "output_type": "execute_result",
          "data": {
            "text/plain": [
              "Date         0\n",
              "Open         0\n",
              "High         0\n",
              "Low          0\n",
              "Close        0\n",
              "Adj Close    0\n",
              "Volume       0\n",
              "dtype: int64"
            ]
          },
          "metadata": {
            "tags": []
          },
          "execution_count": 83
        }
      ]
    },
    {
      "cell_type": "code",
      "metadata": {
        "id": "vg8PCvpASd1W",
        "colab": {
          "base_uri": "https://localhost:8080/",
          "height": 343
        },
        "outputId": "d0ee7735-b4ad-4df1-bc49-b4f6b8c8a019"
      },
      "source": [
        "dates = df['Date'].values\n",
        "temp  = df['Close'].values\n",
        " \n",
        " \n",
        "plt.figure(figsize=(15,5))\n",
        "plt.plot(dates, temp)\n",
        "plt.title('Close Stock average',\n",
        "          fontsize=20);"
      ],
      "execution_count": null,
      "outputs": [
        {
          "output_type": "display_data",
          "data": {
            "image/png": "[encoded data removed]",
            "text/plain": [
              "<Figure size 1080x360 with 1 Axes>"
            ]
          },
          "metadata": {
            "tags": []
          }
        }
      ]
    },
    {
      "cell_type": "code",
      "metadata": {
        "id": "L6ym344vLFm9"
      },
      "source": [
        "len_train = len(temp)*0.8\n",
        "len_train = int(len_train)\n",
        "temp_train = temp[:len_train]\n"
      ],
      "execution_count": null,
      "outputs": []
    },
    {
      "cell_type": "code",
      "metadata": {
        "id": "-D5gKRX9kb2r"
      },
      "source": [
        "len_val = len(temp)*0.2\n",
        "len_val = int(len_val)\n",
        "temp_val = temp[len_val:]"
      ],
      "execution_count": null,
      "outputs": []
    },
    {
      "cell_type": "code",
      "metadata": {
        "id": "cC9-xom7S_tH"
      },
      "source": [
        "def windowed_dataset(series, window_size, batch_size, shuffle_buffer):\n",
        "    series = tf.expand_dims(series, axis=-1)\n",
        "    ds = tf.data.Dataset.from_tensor_slices(series)\n",
        "    ds = ds.window(window_size + 1, shift=1, drop_remainder=True)\n",
        "    ds = ds.flat_map(lambda w: w.batch(window_size + 1))\n",
        "    ds = ds.shuffle(shuffle_buffer)\n",
        "    ds = ds.map(lambda w: (w[:-1], w[-1:]))\n",
        "    return ds.batch(batch_size).prefetch(1)"
      ],
      "execution_count": null,
      "outputs": []
    },
    {
      "cell_type": "code",
      "metadata": {
        "id": "2H2SwhDV14lv"
      },
      "source": [
        "from sklearn.preprocessing import MinMaxScaler\n",
        "\n",
        "# Feature Scaling\n",
        "sc = MinMaxScaler(feature_range = (0, 1))\n",
        "temp_train = temp_train.reshape(-1, 1)\n",
        "training_set_scaled = sc.fit_transform(temp_train)\n",
        "# Creating a data structure with 60 time-steps and 1 output\n",
        "X_train = []\n",
        "y_train = []\n",
        "for i in range(60, 800):\n",
        "    X_train.append(training_set_scaled[i-60:i, 0])\n",
        "    y_train.append(training_set_scaled[i, 0])\n",
        "X_train, y_train = np.array(X_train), np.array(y_train)\n",
        "X_train = np.reshape(X_train, (X_train.shape[0], X_train.shape[1], 1))\n",
        "#(740, 60, 1)"
      ],
      "execution_count": null,
      "outputs": []
    },
    {
      "cell_type": "code",
      "metadata": {
        "id": "7DXRknhK9V4l"
      },
      "source": [
        "# Feature Scaling\n",
        "sc = MinMaxScaler(feature_range = (0, 1))\n",
        "temp_val = temp_val.reshape(-1, 1)\n",
        "val_set_scaled = sc.fit_transform(temp_val)\n",
        "\n",
        "X_test = []\n",
        "y_test = []\n",
        "for i in range(60, 800):\n",
        "    X_test.append(training_set_scaled[i-60:i, 0])\n",
        "    y_test.append(training_set_scaled[i, 0])\n",
        "\n",
        "X_test, y_test = np.array(X_test), np.array(y_test)\n",
        "X_test = np.reshape(X_test, (X_test.shape[0], X_test.shape[1], 1))"
      ],
      "execution_count": null,
      "outputs": []
    },
    {
      "cell_type": "code",
      "metadata": {
        "id": "vRoXhyTt1vJK"
      },
      "source": [
        "model = tf.keras.models.Sequential([\n",
        "  tf.keras.layers.LSTM(60, return_sequences=True),\n",
        "  tf.keras.layers.LSTM(60),\n",
        "  tf.keras.layers.Dense(30, activation=\"relu\"),\n",
        "  tf.keras.layers.Dense(10, activation=\"relu\"),\n",
        "  tf.keras.layers.Dense(1),\n",
        "])"
      ],
      "execution_count": null,
      "outputs": []
    },
    {
      "cell_type": "code",
      "metadata": {
        "id": "60BvBhKWTOxC",
        "colab": {
          "base_uri": "https://localhost:8080/",
          "height": 1000
        },
        "outputId": "3132597b-a138-400b-8d86-ef3b0874eaea"
      },
      "source": [
        "lr_schedule = tf.keras.callbacks.LearningRateScheduler(\n",
        "    lambda epoch: 1e-8 * 10**(epoch / 20))\n",
        "optimizer = tf.keras.optimizers.SGD(lr=1.0000e-04, momentum=0.9)\n",
        "model.compile(loss=tf.keras.losses.Huber(),\n",
        "              optimizer=optimizer,\n",
        "              metrics=[\"mae\"])\n",
        "history = model.fit(X_train, y_train, epochs = 130, batch_size = 32, callbacks=[lr_schedule],\n",
        "                    validation_data=(X_test, y_test))"
      ],
      "execution_count": null,
      "outputs": [
        {
          "output_type": "stream",
          "text": [
            "Epoch 1/130\n",
            "24/24 [==============================] - 2s 103ms/step - loss: 0.1190 - mae: 0.4453 - val_loss: 0.1190 - val_mae: 0.4453\n",
            "Epoch 2/130\n",
            "24/24 [==============================] - 2s 75ms/step - loss: 0.1190 - mae: 0.4453 - val_loss: 0.1190 - val_mae: 0.4453\n",
            "Epoch 3/130\n",
            "24/24 [==============================] - 2s 75ms/step - loss: 0.1190 - mae: 0.4453 - val_loss: 0.1190 - val_mae: 0.4453\n",
            "Epoch 4/130\n",
            "24/24 [==============================] - 2s 75ms/step - loss: 0.1190 - mae: 0.4453 - val_loss: 0.1190 - val_mae: 0.4452\n",
            "Epoch 5/130\n",
            "24/24 [==============================] - 2s 76ms/step - loss: 0.1190 - mae: 0.4452 - val_loss: 0.1190 - val_mae: 0.4452\n",
            "Epoch 6/130\n",
            "24/24 [==============================] - 2s 76ms/step - loss: 0.1190 - mae: 0.4452 - val_loss: 0.1190 - val_mae: 0.4452\n",
            "Epoch 7/130\n",
            "24/24 [==============================] - 2s 78ms/step - loss: 0.1190 - mae: 0.4452 - val_loss: 0.1190 - val_mae: 0.4452\n",
            "Epoch 8/130\n",
            "24/24 [==============================] - 2s 77ms/step - loss: 0.1190 - mae: 0.4452 - val_loss: 0.1190 - val_mae: 0.4452\n",
            "Epoch 9/130\n",
            "24/24 [==============================] - 2s 75ms/step - loss: 0.1190 - mae: 0.4452 - val_loss: 0.1189 - val_mae: 0.4452\n",
            "Epoch 10/130\n",
            "24/24 [==============================] - 2s 76ms/step - loss: 0.1189 - mae: 0.4452 - val_loss: 0.1189 - val_mae: 0.4452\n",
            "Epoch 11/130\n",
            "24/24 [==============================] - 2s 76ms/step - loss: 0.1189 - mae: 0.4452 - val_loss: 0.1189 - val_mae: 0.4452\n",
            "Epoch 12/130\n",
            "24/24 [==============================] - 2s 75ms/step - loss: 0.1189 - mae: 0.4452 - val_loss: 0.1189 - val_mae: 0.4452\n",
            "Epoch 13/130\n",
            "24/24 [==============================] - 2s 74ms/step - loss: 0.1189 - mae: 0.4452 - val_loss: 0.1189 - val_mae: 0.4452\n",
            "Epoch 14/130\n",
            "24/24 [==============================] - 2s 74ms/step - loss: 0.1189 - mae: 0.4452 - val_loss: 0.1189 - val_mae: 0.4451\n",
            "Epoch 15/130\n",
            "24/24 [==============================] - 2s 75ms/step - loss: 0.1189 - mae: 0.4451 - val_loss: 0.1189 - val_mae: 0.4451\n",
            "Epoch 16/130\n",
            "24/24 [==============================] - 2s 74ms/step - loss: 0.1189 - mae: 0.4451 - val_loss: 0.1189 - val_mae: 0.4451\n",
            "Epoch 17/130\n",
            "24/24 [==============================] - 2s 73ms/step - loss: 0.1189 - mae: 0.4451 - val_loss: 0.1189 - val_mae: 0.4451\n",
            "Epoch 18/130\n",
            "24/24 [==============================] - 2s 76ms/step - loss: 0.1189 - mae: 0.4451 - val_loss: 0.1189 - val_mae: 0.4451\n",
            "Epoch 19/130\n",
            "24/24 [==============================] - 2s 78ms/step - loss: 0.1189 - mae: 0.4450 - val_loss: 0.1189 - val_mae: 0.4450\n",
            "Epoch 20/130\n",
            "24/24 [==============================] - 2s 79ms/step - loss: 0.1189 - mae: 0.4450 - val_loss: 0.1189 - val_mae: 0.4450\n",
            "Epoch 21/130\n",
            "24/24 [==============================] - 2s 77ms/step - loss: 0.1188 - mae: 0.4450 - val_loss: 0.1188 - val_mae: 0.4450\n",
            "Epoch 22/130\n",
            "24/24 [==============================] - 2s 75ms/step - loss: 0.1188 - mae: 0.4449 - val_loss: 0.1188 - val_mae: 0.4449\n",
            "Epoch 23/130\n",
            "24/24 [==============================] - 2s 78ms/step - loss: 0.1188 - mae: 0.4449 - val_loss: 0.1188 - val_mae: 0.4449\n",
            "Epoch 24/130\n",
            "24/24 [==============================] - 2s 76ms/step - loss: 0.1188 - mae: 0.4448 - val_loss: 0.1188 - val_mae: 0.4448\n",
            "Epoch 25/130\n",
            "24/24 [==============================] - 2s 75ms/step - loss: 0.1188 - mae: 0.4448 - val_loss: 0.1187 - val_mae: 0.4448\n",
            "Epoch 26/130\n",
            "24/24 [==============================] - 2s 76ms/step - loss: 0.1187 - mae: 0.4447 - val_loss: 0.1187 - val_mae: 0.4447\n",
            "Epoch 27/130\n",
            "24/24 [==============================] - 2s 74ms/step - loss: 0.1187 - mae: 0.4447 - val_loss: 0.1187 - val_mae: 0.4446\n",
            "Epoch 28/130\n",
            "24/24 [==============================] - 2s 74ms/step - loss: 0.1187 - mae: 0.4446 - val_loss: 0.1186 - val_mae: 0.4445\n",
            "Epoch 29/130\n",
            "24/24 [==============================] - 2s 76ms/step - loss: 0.1186 - mae: 0.4445 - val_loss: 0.1186 - val_mae: 0.4444\n",
            "Epoch 30/130\n",
            "24/24 [==============================] - 2s 76ms/step - loss: 0.1186 - mae: 0.4444 - val_loss: 0.1186 - val_mae: 0.4443\n",
            "Epoch 31/130\n",
            "24/24 [==============================] - 2s 76ms/step - loss: 0.1185 - mae: 0.4443 - val_loss: 0.1185 - val_mae: 0.4442\n",
            "Epoch 32/130\n",
            "24/24 [==============================] - 2s 80ms/step - loss: 0.1185 - mae: 0.4442 - val_loss: 0.1184 - val_mae: 0.4441\n",
            "Epoch 33/130\n",
            "24/24 [==============================] - 2s 75ms/step - loss: 0.1184 - mae: 0.4440 - val_loss: 0.1184 - val_mae: 0.4439\n",
            "Epoch 34/130\n",
            "24/24 [==============================] - 2s 76ms/step - loss: 0.1183 - mae: 0.4439 - val_loss: 0.1183 - val_mae: 0.4438\n",
            "Epoch 35/130\n",
            "24/24 [==============================] - 2s 77ms/step - loss: 0.1183 - mae: 0.4437 - val_loss: 0.1182 - val_mae: 0.4436\n",
            "Epoch 36/130\n",
            "24/24 [==============================] - 2s 75ms/step - loss: 0.1182 - mae: 0.4435 - val_loss: 0.1181 - val_mae: 0.4434\n",
            "Epoch 37/130\n",
            "24/24 [==============================] - 2s 75ms/step - loss: 0.1181 - mae: 0.4433 - val_loss: 0.1180 - val_mae: 0.4432\n",
            "Epoch 38/130\n",
            "24/24 [==============================] - 2s 77ms/step - loss: 0.1180 - mae: 0.4431 - val_loss: 0.1179 - val_mae: 0.4429\n",
            "Epoch 39/130\n",
            "24/24 [==============================] - 2s 78ms/step - loss: 0.1179 - mae: 0.4428 - val_loss: 0.1178 - val_mae: 0.4427\n",
            "Epoch 40/130\n",
            "24/24 [==============================] - 2s 80ms/step - loss: 0.1177 - mae: 0.4425 - val_loss: 0.1177 - val_mae: 0.4424\n",
            "Epoch 41/130\n",
            "24/24 [==============================] - 2s 77ms/step - loss: 0.1176 - mae: 0.4422 - val_loss: 0.1175 - val_mae: 0.4421\n",
            "Epoch 42/130\n",
            "24/24 [==============================] - 2s 76ms/step - loss: 0.1175 - mae: 0.4419 - val_loss: 0.1174 - val_mae: 0.4417\n",
            "Epoch 43/130\n",
            "24/24 [==============================] - 2s 75ms/step - loss: 0.1173 - mae: 0.4415 - val_loss: 0.1172 - val_mae: 0.4413\n",
            "Epoch 44/130\n",
            "24/24 [==============================] - 2s 74ms/step - loss: 0.1171 - mae: 0.4411 - val_loss: 0.1170 - val_mae: 0.4409\n",
            "Epoch 45/130\n",
            "24/24 [==============================] - 2s 75ms/step - loss: 0.1169 - mae: 0.4407 - val_loss: 0.1168 - val_mae: 0.4404\n",
            "Epoch 46/130\n",
            "24/24 [==============================] - 2s 77ms/step - loss: 0.1167 - mae: 0.4401 - val_loss: 0.1165 - val_mae: 0.4399\n",
            "Epoch 47/130\n",
            "24/24 [==============================] - 2s 76ms/step - loss: 0.1164 - mae: 0.4396 - val_loss: 0.1163 - val_mae: 0.4392\n",
            "Epoch 48/130\n",
            "24/24 [==============================] - 2s 75ms/step - loss: 0.1161 - mae: 0.4389 - val_loss: 0.1160 - val_mae: 0.4386\n",
            "Epoch 49/130\n",
            "24/24 [==============================] - 2s 75ms/step - loss: 0.1158 - mae: 0.4382 - val_loss: 0.1156 - val_mae: 0.4378\n",
            "Epoch 50/130\n",
            "24/24 [==============================] - 2s 75ms/step - loss: 0.1155 - mae: 0.4374 - val_loss: 0.1153 - val_mae: 0.4370\n",
            "Epoch 51/130\n",
            "24/24 [==============================] - 2s 78ms/step - loss: 0.1151 - mae: 0.4365 - val_loss: 0.1148 - val_mae: 0.4360\n",
            "Epoch 52/130\n",
            "24/24 [==============================] - 2s 77ms/step - loss: 0.1146 - mae: 0.4355 - val_loss: 0.1144 - val_mae: 0.4350\n",
            "Epoch 53/130\n",
            "24/24 [==============================] - 2s 78ms/step - loss: 0.1141 - mae: 0.4344 - val_loss: 0.1138 - val_mae: 0.4338\n",
            "Epoch 54/130\n",
            "24/24 [==============================] - 2s 77ms/step - loss: 0.1136 - mae: 0.4332 - val_loss: 0.1133 - val_mae: 0.4325\n",
            "Epoch 55/130\n",
            "24/24 [==============================] - 2s 74ms/step - loss: 0.1130 - mae: 0.4318 - val_loss: 0.1126 - val_mae: 0.4310\n",
            "Epoch 56/130\n",
            "24/24 [==============================] - 2s 75ms/step - loss: 0.1123 - mae: 0.4302 - val_loss: 0.1119 - val_mae: 0.4293\n",
            "Epoch 57/130\n",
            "24/24 [==============================] - 2s 74ms/step - loss: 0.1115 - mae: 0.4285 - val_loss: 0.1111 - val_mae: 0.4274\n",
            "Epoch 58/130\n",
            "24/24 [==============================] - 2s 78ms/step - loss: 0.1107 - mae: 0.4265 - val_loss: 0.1102 - val_mae: 0.4254\n",
            "Epoch 59/130\n",
            "24/24 [==============================] - 2s 74ms/step - loss: 0.1097 - mae: 0.4243 - val_loss: 0.1092 - val_mae: 0.4231\n",
            "Epoch 60/130\n",
            "24/24 [==============================] - 2s 76ms/step - loss: 0.1087 - mae: 0.4219 - val_loss: 0.1081 - val_mae: 0.4204\n",
            "Epoch 61/130\n",
            "24/24 [==============================] - 2s 75ms/step - loss: 0.1075 - mae: 0.4191 - val_loss: 0.1069 - val_mae: 0.4176\n",
            "Epoch 62/130\n",
            "24/24 [==============================] - 2s 75ms/step - loss: 0.1063 - mae: 0.4162 - val_loss: 0.1055 - val_mae: 0.4144\n",
            "Epoch 63/130\n",
            "24/24 [==============================] - 2s 76ms/step - loss: 0.1049 - mae: 0.4128 - val_loss: 0.1041 - val_mae: 0.4109\n",
            "Epoch 64/130\n",
            "24/24 [==============================] - 2s 75ms/step - loss: 0.1033 - mae: 0.4090 - val_loss: 0.1024 - val_mae: 0.4068\n",
            "Epoch 65/130\n",
            "24/24 [==============================] - 2s 75ms/step - loss: 0.1016 - mae: 0.4048 - val_loss: 0.1006 - val_mae: 0.4024\n",
            "Epoch 66/130\n",
            "24/24 [==============================] - 2s 74ms/step - loss: 0.0997 - mae: 0.4002 - val_loss: 0.0986 - val_mae: 0.3975\n",
            "Epoch 67/130\n",
            "24/24 [==============================] - 2s 78ms/step - loss: 0.0976 - mae: 0.3951 - val_loss: 0.0964 - val_mae: 0.3922\n",
            "Epoch 68/130\n",
            "24/24 [==============================] - 2s 77ms/step - loss: 0.0954 - mae: 0.3895 - val_loss: 0.0941 - val_mae: 0.3862\n",
            "Epoch 69/130\n",
            "24/24 [==============================] - 2s 76ms/step - loss: 0.0929 - mae: 0.3831 - val_loss: 0.0915 - val_mae: 0.3795\n",
            "Epoch 70/130\n",
            "24/24 [==============================] - 2s 75ms/step - loss: 0.0902 - mae: 0.3760 - val_loss: 0.0886 - val_mae: 0.3719\n",
            "Epoch 71/130\n",
            "24/24 [==============================] - 2s 74ms/step - loss: 0.0872 - mae: 0.3682 - val_loss: 0.0855 - val_mae: 0.3637\n",
            "Epoch 72/130\n",
            "24/24 [==============================] - 2s 76ms/step - loss: 0.0840 - mae: 0.3595 - val_loss: 0.0822 - val_mae: 0.3545\n",
            "Epoch 73/130\n",
            "24/24 [==============================] - 2s 76ms/step - loss: 0.0806 - mae: 0.3499 - val_loss: 0.0786 - val_mae: 0.3444\n",
            "Epoch 74/130\n",
            "24/24 [==============================] - 2s 76ms/step - loss: 0.0769 - mae: 0.3395 - val_loss: 0.0749 - val_mae: 0.3336\n",
            "Epoch 75/130\n",
            "24/24 [==============================] - 2s 76ms/step - loss: 0.0730 - mae: 0.3282 - val_loss: 0.0708 - val_mae: 0.3217\n",
            "Epoch 76/130\n",
            "24/24 [==============================] - 2s 75ms/step - loss: 0.0687 - mae: 0.3157 - val_loss: 0.0664 - val_mae: 0.3087\n",
            "Epoch 77/130\n",
            "24/24 [==============================] - 2s 75ms/step - loss: 0.0644 - mae: 0.3023 - val_loss: 0.0620 - val_mae: 0.2949\n",
            "Epoch 78/130\n",
            "24/24 [==============================] - 2s 77ms/step - loss: 0.0599 - mae: 0.2884 - val_loss: 0.0575 - val_mae: 0.2807\n",
            "Epoch 79/130\n",
            "24/24 [==============================] - 2s 82ms/step - loss: 0.0554 - mae: 0.2738 - val_loss: 0.0529 - val_mae: 0.2657\n",
            "Epoch 80/130\n",
            "24/24 [==============================] - 2s 76ms/step - loss: 0.0508 - mae: 0.2586 - val_loss: 0.0483 - val_mae: 0.2500\n",
            "Epoch 81/130\n",
            "24/24 [==============================] - 2s 77ms/step - loss: 0.0462 - mae: 0.2424 - val_loss: 0.0438 - val_mae: 0.2335\n",
            "Epoch 82/130\n",
            "24/24 [==============================] - 2s 77ms/step - loss: 0.0418 - mae: 0.2259 - val_loss: 0.0395 - val_mae: 0.2170\n",
            "Epoch 83/130\n",
            "24/24 [==============================] - 2s 77ms/step - loss: 0.0375 - mae: 0.2100 - val_loss: 0.0353 - val_mae: 0.2013\n",
            "Epoch 84/130\n",
            "24/24 [==============================] - 2s 79ms/step - loss: 0.0335 - mae: 0.1947 - val_loss: 0.0315 - val_mae: 0.1873\n",
            "Epoch 85/130\n",
            "24/24 [==============================] - 2s 80ms/step - loss: 0.0298 - mae: 0.1815 - val_loss: 0.0280 - val_mae: 0.1751\n",
            "Epoch 86/130\n",
            "24/24 [==============================] - 2s 80ms/step - loss: 0.0264 - mae: 0.1701 - val_loss: 0.0248 - val_mae: 0.1652\n",
            "Epoch 87/130\n",
            "24/24 [==============================] - 2s 78ms/step - loss: 0.0236 - mae: 0.1619 - val_loss: 0.0222 - val_mae: 0.1586\n",
            "Epoch 88/130\n",
            "24/24 [==============================] - 2s 77ms/step - loss: 0.0211 - mae: 0.1562 - val_loss: 0.0200 - val_mae: 0.1543\n",
            "Epoch 89/130\n",
            "24/24 [==============================] - 2s 80ms/step - loss: 0.0191 - mae: 0.1534 - val_loss: 0.0181 - val_mae: 0.1519\n",
            "Epoch 90/130\n",
            "24/24 [==============================] - 2s 81ms/step - loss: 0.0176 - mae: 0.1511 - val_loss: 0.0170 - val_mae: 0.1506\n",
            "Epoch 91/130\n",
            "24/24 [==============================] - 2s 87ms/step - loss: 0.0166 - mae: 0.1506 - val_loss: 0.0161 - val_mae: 0.1503\n",
            "Epoch 92/130\n",
            "24/24 [==============================] - 2s 84ms/step - loss: 0.0158 - mae: 0.1499 - val_loss: 0.0155 - val_mae: 0.1500\n",
            "Epoch 93/130\n",
            "24/24 [==============================] - 2s 87ms/step - loss: 0.0153 - mae: 0.1501 - val_loss: 0.0150 - val_mae: 0.1498\n",
            "Epoch 94/130\n",
            "24/24 [==============================] - 2s 88ms/step - loss: 0.0149 - mae: 0.1498 - val_loss: 0.0147 - val_mae: 0.1494\n",
            "Epoch 95/130\n",
            "24/24 [==============================] - 2s 85ms/step - loss: 0.0146 - mae: 0.1489 - val_loss: 0.0145 - val_mae: 0.1486\n",
            "Epoch 96/130\n",
            "24/24 [==============================] - 2s 75ms/step - loss: 0.0143 - mae: 0.1483 - val_loss: 0.0142 - val_mae: 0.1479\n",
            "Epoch 97/130\n",
            "24/24 [==============================] - 2s 77ms/step - loss: 0.0141 - mae: 0.1475 - val_loss: 0.0140 - val_mae: 0.1470\n",
            "Epoch 98/130\n",
            "24/24 [==============================] - 2s 74ms/step - loss: 0.0139 - mae: 0.1465 - val_loss: 0.0138 - val_mae: 0.1458\n",
            "Epoch 99/130\n",
            "24/24 [==============================] - 2s 76ms/step - loss: 0.0137 - mae: 0.1450 - val_loss: 0.0135 - val_mae: 0.1442\n",
            "Epoch 100/130\n",
            "24/24 [==============================] - 2s 77ms/step - loss: 0.0134 - mae: 0.1439 - val_loss: 0.0132 - val_mae: 0.1430\n",
            "Epoch 101/130\n",
            "24/24 [==============================] - 2s 75ms/step - loss: 0.0131 - mae: 0.1419 - val_loss: 0.0129 - val_mae: 0.1408\n",
            "Epoch 102/130\n",
            "24/24 [==============================] - 2s 73ms/step - loss: 0.0127 - mae: 0.1400 - val_loss: 0.0125 - val_mae: 0.1388\n",
            "Epoch 103/130\n",
            "24/24 [==============================] - 2s 76ms/step - loss: 0.0123 - mae: 0.1374 - val_loss: 0.0121 - val_mae: 0.1360\n",
            "Epoch 104/130\n",
            "24/24 [==============================] - 2s 77ms/step - loss: 0.0119 - mae: 0.1355 - val_loss: 0.0116 - val_mae: 0.1336\n",
            "Epoch 105/130\n",
            "24/24 [==============================] - 2s 77ms/step - loss: 0.0113 - mae: 0.1321 - val_loss: 0.0110 - val_mae: 0.1299\n",
            "Epoch 106/130\n",
            "24/24 [==============================] - 2s 73ms/step - loss: 0.0107 - mae: 0.1282 - val_loss: 0.0104 - val_mae: 0.1260\n",
            "Epoch 107/130\n",
            "24/24 [==============================] - 2s 74ms/step - loss: 0.0101 - mae: 0.1244 - val_loss: 0.0097 - val_mae: 0.1213\n",
            "Epoch 108/130\n",
            "24/24 [==============================] - 2s 74ms/step - loss: 0.0093 - mae: 0.1188 - val_loss: 0.0089 - val_mae: 0.1160\n",
            "Epoch 109/130\n",
            "24/24 [==============================] - 2s 76ms/step - loss: 0.0085 - mae: 0.1131 - val_loss: 0.0080 - val_mae: 0.1101\n",
            "Epoch 110/130\n",
            "24/24 [==============================] - 2s 76ms/step - loss: 0.0075 - mae: 0.1065 - val_loss: 0.0069 - val_mae: 0.1016\n",
            "Epoch 111/130\n",
            "24/24 [==============================] - 2s 78ms/step - loss: 0.0064 - mae: 0.0974 - val_loss: 0.0058 - val_mae: 0.0929\n",
            "Epoch 112/130\n",
            "24/24 [==============================] - 2s 75ms/step - loss: 0.0053 - mae: 0.0879 - val_loss: 0.0046 - val_mae: 0.0810\n",
            "Epoch 113/130\n",
            "24/24 [==============================] - 2s 77ms/step - loss: 0.0041 - mae: 0.0759 - val_loss: 0.0034 - val_mae: 0.0690\n",
            "Epoch 114/130\n",
            "24/24 [==============================] - 2s 77ms/step - loss: 0.0029 - mae: 0.0628 - val_loss: 0.0023 - val_mae: 0.0548\n",
            "Epoch 115/130\n",
            "24/24 [==============================] - 2s 79ms/step - loss: 0.0019 - mae: 0.0484 - val_loss: 0.0015 - val_mae: 0.0460\n",
            "Epoch 116/130\n",
            "24/24 [==============================] - 2s 79ms/step - loss: 0.0012 - mae: 0.0393 - val_loss: 9.6840e-04 - val_mae: 0.0342\n",
            "Epoch 117/130\n",
            "24/24 [==============================] - 2s 76ms/step - loss: 8.5172e-04 - mae: 0.0323 - val_loss: 7.5660e-04 - val_mae: 0.0296\n",
            "Epoch 118/130\n",
            "24/24 [==============================] - 2s 76ms/step - loss: 7.1546e-04 - mae: 0.0291 - val_loss: 6.8726e-04 - val_mae: 0.0285\n",
            "Epoch 119/130\n",
            "24/24 [==============================] - 2s 77ms/step - loss: 6.8506e-04 - mae: 0.0284 - val_loss: 6.7493e-04 - val_mae: 0.0281\n",
            "Epoch 120/130\n",
            "24/24 [==============================] - 2s 77ms/step - loss: 6.7367e-04 - mae: 0.0281 - val_loss: 6.7303e-04 - val_mae: 0.0280\n",
            "Epoch 121/130\n",
            "24/24 [==============================] - 2s 76ms/step - loss: 6.7478e-04 - mae: 0.0280 - val_loss: 6.8655e-04 - val_mae: 0.0283\n",
            "Epoch 122/130\n",
            "24/24 [==============================] - 2s 75ms/step - loss: 6.8723e-04 - mae: 0.0284 - val_loss: 6.8511e-04 - val_mae: 0.0283\n",
            "Epoch 123/130\n",
            "24/24 [==============================] - 2s 75ms/step - loss: 6.7345e-04 - mae: 0.0282 - val_loss: 6.5981e-04 - val_mae: 0.0278\n",
            "Epoch 124/130\n",
            "24/24 [==============================] - 2s 101ms/step - loss: 6.6378e-04 - mae: 0.0280 - val_loss: 6.7137e-04 - val_mae: 0.0281\n",
            "Epoch 125/130\n",
            "24/24 [==============================] - 3s 109ms/step - loss: 6.9052e-04 - mae: 0.0285 - val_loss: 6.5580e-04 - val_mae: 0.0275\n",
            "Epoch 126/130\n",
            "24/24 [==============================] - 3s 112ms/step - loss: 6.6638e-04 - mae: 0.0279 - val_loss: 6.5468e-04 - val_mae: 0.0277\n",
            "Epoch 127/130\n",
            "24/24 [==============================] - 3s 112ms/step - loss: 6.6493e-04 - mae: 0.0277 - val_loss: 6.7712e-04 - val_mae: 0.0280\n",
            "Epoch 128/130\n",
            "24/24 [==============================] - 2s 86ms/step - loss: 6.7916e-04 - mae: 0.0282 - val_loss: 7.0772e-04 - val_mae: 0.0293\n",
            "Epoch 129/130\n",
            "24/24 [==============================] - 2s 76ms/step - loss: 6.9252e-04 - mae: 0.0285 - val_loss: 6.4559e-04 - val_mae: 0.0273\n",
            "Epoch 130/130\n",
            "24/24 [==============================] - 2s 74ms/step - loss: 6.9090e-04 - mae: 0.0286 - val_loss: 6.3892e-04 - val_mae: 0.0273\n"
          ],
          "name": "stdout"
        }
      ]
    }
  ]
}